{
  "nbformat": 4,
  "nbformat_minor": 0,
  "metadata": {
    "colab": {
      "name": "Fashion_MINST.ipynb",
      "provenance": [],
      "authorship_tag": "ABX9TyPC7AN+kTp9wX93X9HPBwzn",
      "include_colab_link": true
    },
    "kernelspec": {
      "name": "python3",
      "display_name": "Python 3"
    },
    "language_info": {
      "name": "python"
    }
  },
  "cells": [
    {
      "cell_type": "markdown",
      "metadata": {
        "id": "view-in-github",
        "colab_type": "text"
      },
      "source": [
        "<a href=\"https://colab.research.google.com/github/Devansh-0/COVID-19/blob/main/Fashion_MINST.ipynb\" target=\"_parent\"><img src=\"https://colab.research.google.com/assets/colab-badge.svg\" alt=\"Open In Colab\"/></a>"
      ]
    },
    {
      "cell_type": "code",
      "execution_count": null,
      "metadata": {
        "id": "SaOVgdpedfh8"
      },
      "outputs": [],
      "source": [
        ""
      ]
    },
    {
      "cell_type": "markdown",
      "source": [
        "**GoogleNet** - **FASHION MNIST**\n",
        "\n"
      ],
      "metadata": {
        "id": "VtT-IeVzckN2"
      }
    },
    {
      "cell_type": "code",
      "source": [
        "import torch.nn as nn\n",
        "import torch\n",
        "import math\n",
        "\n",
        "class BasicConv2d(nn.Module):\n",
        "\n",
        "    def __init__(self, in_channels, out_channels, kernel_size, stride=1, padding=0):\n",
        "        super(BasicConv2d, self).__init__()\n",
        "        self.conv = nn.Conv2d(in_channels, out_channels, kernel_size, stride, padding, bias=False)\n",
        "        self.relu = nn.ReLU(inplace=True)\n",
        "    def forward(self, x):\n",
        "        x = self.conv(x)\n",
        "        return self.relu(x)\n",
        "\n",
        "\n",
        "class Inception(nn.Module):\n",
        "\n",
        "    def __init__(self, in_channels, ch1x1, ch3x3reduce, ch3x3, ch5x5reduce, ch5x5, pool_proj):\n",
        "\n",
        "        super(Inception, self).__init__()\n",
        "\n",
        "        conv_block = BasicConv2d\n",
        "        self.branch1 = conv_block(in_channels, ch1x1, kernel_size=1)\n",
        "\n",
        "        self.branch2 = nn.Sequential(\n",
        "            conv_block(in_channels, ch3x3reduce, kernel_size=1),\n",
        "            conv_block(ch3x3reduce, ch3x3, kernel_size=3, padding=1)\n",
        "        )\n",
        "\n",
        "        self.branch3 = nn.Sequential(\n",
        "            conv_block(in_channels, ch5x5reduce, kernel_size=1),\n",
        "            conv_block(ch5x5reduce, ch5x5, kernel_size=5, padding=2)\n",
        "        )\n",
        "\n",
        "        self.branch4 = nn.Sequential(\n",
        "            nn.MaxPool2d(kernel_size=3, stride=1, padding=1),\n",
        "            conv_block(in_channels, pool_proj, kernel_size=1)\n",
        "        )\n",
        "\n",
        "    def forward(self, x):\n",
        "        branch1 = self.branch1(x)\n",
        "        branch2 = self.branch2(x)\n",
        "        branch3 = self.branch3(x)\n",
        "        branch4 = self.branch4(x)\n",
        "        outputs = [branch1, branch2, branch3, branch4]\n",
        "        return torch.cat(outputs, 1)\n",
        "\n",
        "\n",
        "class GoogLeNet(nn.Module):\n",
        "    def __init__(self, num_classes=1000):\n",
        "        super(GoogLeNet, self).__init__()\n",
        "        conv_block, inception_block = BasicConv2d, Inception\n",
        "\n",
        "        self.conv1 = conv_block(in_channels=1, out_channels=64, kernel_size=7, stride=2, padding=3)\n",
        "\n",
        "        self.maxpool1 = nn.MaxPool2d(kernel_size=3, stride=2, padding=1)\n",
        "        self.conv2 = conv_block(in_channels=64, out_channels=64, kernel_size=1, stride=1, padding=0)\n",
        "        self.conv3 = conv_block(in_channels=64, out_channels=192, kernel_size=3, stride=1, padding=1)\n",
        "        self.maxpool2 = nn.MaxPool2d(kernel_size=3, stride=2, padding=1)\n",
        "\n",
        "        self.inception3a = inception_block(192, 64, 96, 128, 16, 32, 32)\n",
        "        self.inception3b = inception_block(256, 128, 128, 192, 32, 96, 64)\n",
        "        self.maxpool3 = nn.MaxPool2d(kernel_size=3, stride=2, padding=1)\n",
        "\n",
        "        self.inception4a = inception_block(480, 192, 96, 208, 16, 48, 64)\n",
        "        self.inception4b = inception_block(512, 160, 112, 224, 24, 64, 64)\n",
        "        self.inception4c = inception_block(512, 128, 128, 256, 24, 64, 64)\n",
        "        self.inception4d = inception_block(512, 112, 144, 288, 32, 64, 64)\n",
        "        self.inception4e = inception_block(528, 256, 160, 320, 32, 128, 128)\n",
        "        self.maxpool4 = nn.MaxPool2d(kernel_size=3, stride=2, padding=1)\n",
        "\n",
        "        self.inception5a = inception_block(832, 256, 160, 320, 32, 128, 128)\n",
        "        self.inception5b = inception_block(832, 384, 192, 384, 48, 128, 128)\n",
        "\n",
        "        self.avgpool = nn.AdaptiveAvgPool2d((1, 1))\n",
        "        self.dropout = nn.Dropout(0.5)\n",
        "        self.fc = nn.Linear(1024, num_classes)\n",
        "\n",
        "    def forward(self, x, labels=None):\n",
        "        x = self.conv1(x)\n",
        "        x = self.maxpool1(x)\n",
        "        # print(x.shape)\n",
        "        x = self.conv2(x)\n",
        "        x = self.conv3(x)\n",
        "        x = self.maxpool2(x)\n",
        "        # print(x.shape)\n",
        "        x = self.inception3a(x)\n",
        "        x = self.inception3b(x)\n",
        "        x = self.maxpool3(x)\n",
        "        # print(x.shape)\n",
        "        x = self.inception4a(x)\n",
        "        x = self.inception4b(x)\n",
        "        x = self.inception4c(x)\n",
        "        x = self.inception4d(x)\n",
        "        x = self.inception4e(x)\n",
        "        x = self.maxpool4(x)\n",
        "        # print(x.shape)\n",
        "        x = self.inception5a(x)\n",
        "        x = self.inception5b(x)\n",
        "\n",
        "        x = self.avgpool(x)\n",
        "        # N x 1024 x 1 x 1\n",
        "        # print(x.shape)\n",
        "        x = torch.flatten(x, 1)\n",
        "        # N x 1024\n",
        "        # print(x.shape)\n",
        "        x = self.dropout(x)\n",
        "        logits = self.fc(x)\n",
        "        # N x 1000 (num_classes)\n",
        "        if labels is not None:\n",
        "            loss_fct = nn.CrossEntropyLoss(reduction='mean')\n",
        "            loss = loss_fct(logits, labels)\n",
        "            return loss, logits\n",
        "        else:\n",
        "            return logits\n"
      ],
      "metadata": {
        "id": "68TOzs4BaJaK"
      },
      "execution_count": null,
      "outputs": []
    },
    {
      "cell_type": "code",
      "source": [
        "import torchvision\n",
        "\n",
        "\n",
        "def load_dataset(batch_size, resize=None):\n",
        "    trans = []\n",
        "    if resize:\n",
        "        trans.append(torchvision.transforms.Resize(size=resize, interpolation=1))\n",
        "    trans.append(torchvision.transforms.ToTensor())\n",
        "    transform = torchvision.transforms.Compose(trans)\n",
        "    train_loader = torchvision.datasets.FashionMNIST(root='~/Datasets/FashionMNIST',\n",
        "                                                     train=True, download=True,\n",
        "                                                     transform=transform)\n",
        "    test_loader = torchvision.datasets.FashionMNIST(root='~/Datasets/FashionMNIST',\n",
        "                                                    train=False, download=True,\n",
        "                                                    transform=transform)\n",
        "    train_iter = torch.utils.data.DataLoader(train_loader,\n",
        "                                             batch_size=batch_size,\n",
        "                                             shuffle=True,\n",
        "                                             num_workers=1)\n",
        "    test_iter = torch.utils.data.DataLoader(test_loader,\n",
        "                                            batch_size=batch_size,\n",
        "                                            shuffle=False,\n",
        "                                            num_workers=1)\n",
        "    return train_iter, test_iter\n",
        "\n",
        "\n",
        "class MyModel:\n",
        "    def __init__(self,\n",
        "                 batch_size=128,\n",
        "                 epochs=5,\n",
        "                 learning_rate=0.0003):\n",
        "        self.batch_size = batch_size\n",
        "        self.epochs = epochs\n",
        "        self.learning_rate = learning_rate\n",
        "        self.model = GoogLeNet(10)\n",
        "\n",
        "    def train(self):\n",
        "        train_iter, test_iter = load_dataset(batch_size=self.batch_size, resize=96)\n",
        "        optimizer = torch.optim.Adam(self.model.parameters(), lr=self.learning_rate)  \n",
        "        device = torch.device('cuda' if torch.cuda.is_available() else 'cpu')\n",
        "        self.model.to(device)\n",
        "        for epoch in range(self.epochs):\n",
        "            for i, (x, y) in enumerate(train_iter):\n",
        "                x, y = x.to(device), y.to(device)\n",
        "                loss, logits = self.model(x, y)\n",
        "                optimizer.zero_grad()\n",
        "                loss.backward()\n",
        "                optimizer.step() \n",
        "                if i % 50 == 0:\n",
        "                    acc = (logits.argmax(1) == y).float().mean()\n",
        "                    print(\"Epochs[{}/{}]---batch[{}/{}]---acc {:.4}---loss {:.4}\".format(\n",
        "                        epoch + 1, self.epochs, i, len(train_iter), acc, loss.item()))\n",
        "            self.model.eval()  # 切换到评估模式\n",
        "            print(\"Epochs[{}/{}]--acc on test {:.4}\".format(epoch + 1, self.epochs,\n",
        "                                                            self.evaluate(test_iter, self.model, device)))\n",
        "            self.model.train()  # 切回到训练模式\n",
        "\n",
        "    @staticmethod\n",
        "    def evaluate(data_iter, model, device):\n",
        "        with torch.no_grad():\n",
        "            acc_sum, n = 0.0, 0\n",
        "            for x, y in data_iter:\n",
        "                x, y = x.to(device), y.to(device)\n",
        "                logits = model(x)\n",
        "                acc_sum += (logits.argmax(1) == y).float().sum().item()\n",
        "                n += len(y)\n",
        "            return acc_sum / n\n",
        "\n",
        "\n",
        "if __name__ == '__main__':\n",
        "    model = MyModel()\n",
        "    model.train()\n",
        "\n"
      ],
      "metadata": {
        "colab": {
          "base_uri": "https://localhost:8080/",
          "height": 1000,
          "referenced_widgets": [
            "4602fb452e634c27bbd002b7a5219376",
            "1b2980b434ab4427a2ca913397514452",
            "455cf6b73f4e483aa1cf37f7a067647a",
            "6937e37b1a9742b884be1321402a7e21",
            "7afb81147ce140089d82c78413cd5b27",
            "99fe2faf135d4a428ad0bcca7f18b9a9",
            "daa35c941dc54139b69b4975a2b5bf7a",
            "858d828bc47a4207aad50e90c82362d5",
            "8869dd9758974ec0acbea57ae42bd6b9",
            "de12a9bf685f4ca0a64cb7ab0cd62d83",
            "bc21738ddd8b4725ad0cbcc38882a564",
            "311be5b6d4144cff8c876644a9fc1f9c",
            "9c5a1d1f94414bcda8a5be16942b70a8",
            "8bfe5d78f52047f488b0ca5d5b1a25fb",
            "4d4d9ee677b04cf0ac8fe6bc5eca264c",
            "57c2ff5f5de74fba8c3800bff7d18d66",
            "110e569c4a484544bef023dd354e378a",
            "7f28fa323cf046498d5a4e6b5492770c",
            "7bacc0006edb4749b809e3c6bacdd0cd",
            "ffd66fe0e1964cbb95e8b30fab8c1cd9",
            "61545ac767d34f229469e1d585a41296",
            "22ee886b824541a5889850a034b5d1a0",
            "90d88a9eed2d4b109d3dc36858703f8e",
            "faf6713beb61463eaeeba60d1bb7bce7",
            "16d71e0c2098416a9944ed053a42f898",
            "1a5664c0b73e44bb8e502220928b52be",
            "793b131f7087475cba82d28512298057",
            "bfcd3fe268f842c2bd9dbc277db9edf9",
            "2ba3a6647d3640f0a73f4749fae7a0f9",
            "907331d9980f4c7b86bb6e0e2e347579",
            "37a915a742bc4930947b94f6f1916cf1",
            "5bc85533a3334c3aa3c5e1ab13cfcb72",
            "75ca936f0a2245adb3b7d7bf7e1f7f1d",
            "7a10798ded924e1e945f670e1f5b589e",
            "8177f7ff4d6549c9ab29bb8a3f8d7169",
            "5e113f2f6dfb4cbe921277dd59eb95a0",
            "66a09c7a0fb54b16b0ffcb4aa20d17a7",
            "b7f8fda0c4fa4c48a392db9657812e76",
            "a4f3a861d5074fd2800217b81160aea9",
            "ff4ef532adb34b4883cc60a216db067f",
            "b4aeb6824f4c4b62889d677657b14e8d",
            "8767b750835b42ff84170d27aac05c89",
            "642c0d360ce0425e959c904b1d3da03d",
            "c956764f07554f1ab2db7c96fffeb518"
          ]
        },
        "id": "aR1rdz5XLvri",
        "outputId": "1adc8f4b-4027-456f-f269-8af3bfe1dc4a"
      },
      "execution_count": null,
      "outputs": [
        {
          "output_type": "stream",
          "name": "stderr",
          "text": [
            "/usr/local/lib/python3.7/dist-packages/torchvision/transforms/transforms.py:288: UserWarning: Argument interpolation should be of type InterpolationMode instead of int. Please, use InterpolationMode enum.\n",
            "  \"Argument interpolation should be of type InterpolationMode instead of int. \"\n"
          ]
        },
        {
          "output_type": "stream",
          "name": "stdout",
          "text": [
            "Downloading http://fashion-mnist.s3-website.eu-central-1.amazonaws.com/train-images-idx3-ubyte.gz\n",
            "Downloading http://fashion-mnist.s3-website.eu-central-1.amazonaws.com/train-images-idx3-ubyte.gz to /root/Datasets/FashionMNIST/FashionMNIST/raw/train-images-idx3-ubyte.gz\n"
          ]
        },
        {
          "output_type": "display_data",
          "data": {
            "application/vnd.jupyter.widget-view+json": {
              "model_id": "4602fb452e634c27bbd002b7a5219376",
              "version_minor": 0,
              "version_major": 2
            },
            "text/plain": [
              "  0%|          | 0/26421880 [00:00<?, ?it/s]"
            ]
          },
          "metadata": {}
        },
        {
          "output_type": "stream",
          "name": "stdout",
          "text": [
            "Extracting /root/Datasets/FashionMNIST/FashionMNIST/raw/train-images-idx3-ubyte.gz to /root/Datasets/FashionMNIST/FashionMNIST/raw\n",
            "\n",
            "Downloading http://fashion-mnist.s3-website.eu-central-1.amazonaws.com/train-labels-idx1-ubyte.gz\n",
            "Downloading http://fashion-mnist.s3-website.eu-central-1.amazonaws.com/train-labels-idx1-ubyte.gz to /root/Datasets/FashionMNIST/FashionMNIST/raw/train-labels-idx1-ubyte.gz\n"
          ]
        },
        {
          "output_type": "display_data",
          "data": {
            "application/vnd.jupyter.widget-view+json": {
              "model_id": "311be5b6d4144cff8c876644a9fc1f9c",
              "version_minor": 0,
              "version_major": 2
            },
            "text/plain": [
              "  0%|          | 0/29515 [00:00<?, ?it/s]"
            ]
          },
          "metadata": {}
        },
        {
          "output_type": "stream",
          "name": "stdout",
          "text": [
            "Extracting /root/Datasets/FashionMNIST/FashionMNIST/raw/train-labels-idx1-ubyte.gz to /root/Datasets/FashionMNIST/FashionMNIST/raw\n",
            "\n",
            "Downloading http://fashion-mnist.s3-website.eu-central-1.amazonaws.com/t10k-images-idx3-ubyte.gz\n",
            "Downloading http://fashion-mnist.s3-website.eu-central-1.amazonaws.com/t10k-images-idx3-ubyte.gz to /root/Datasets/FashionMNIST/FashionMNIST/raw/t10k-images-idx3-ubyte.gz\n"
          ]
        },
        {
          "output_type": "display_data",
          "data": {
            "application/vnd.jupyter.widget-view+json": {
              "model_id": "90d88a9eed2d4b109d3dc36858703f8e",
              "version_minor": 0,
              "version_major": 2
            },
            "text/plain": [
              "  0%|          | 0/4422102 [00:00<?, ?it/s]"
            ]
          },
          "metadata": {}
        },
        {
          "output_type": "stream",
          "name": "stdout",
          "text": [
            "Extracting /root/Datasets/FashionMNIST/FashionMNIST/raw/t10k-images-idx3-ubyte.gz to /root/Datasets/FashionMNIST/FashionMNIST/raw\n",
            "\n",
            "Downloading http://fashion-mnist.s3-website.eu-central-1.amazonaws.com/t10k-labels-idx1-ubyte.gz\n",
            "Downloading http://fashion-mnist.s3-website.eu-central-1.amazonaws.com/t10k-labels-idx1-ubyte.gz to /root/Datasets/FashionMNIST/FashionMNIST/raw/t10k-labels-idx1-ubyte.gz\n"
          ]
        },
        {
          "output_type": "display_data",
          "data": {
            "application/vnd.jupyter.widget-view+json": {
              "model_id": "7a10798ded924e1e945f670e1f5b589e",
              "version_minor": 0,
              "version_major": 2
            },
            "text/plain": [
              "  0%|          | 0/5148 [00:00<?, ?it/s]"
            ]
          },
          "metadata": {}
        },
        {
          "output_type": "stream",
          "name": "stdout",
          "text": [
            "Extracting /root/Datasets/FashionMNIST/FashionMNIST/raw/t10k-labels-idx1-ubyte.gz to /root/Datasets/FashionMNIST/FashionMNIST/raw\n",
            "\n",
            "Epochs[1/5]---batch[0/469]---acc 0.1406---loss 2.301\n",
            "Epochs[1/5]---batch[50/469]---acc 0.1953---loss 1.812\n",
            "Epochs[1/5]---batch[100/469]---acc 0.3516---loss 1.438\n",
            "Epochs[1/5]---batch[150/469]---acc 0.5156---loss 1.144\n",
            "Epochs[1/5]---batch[200/469]---acc 0.5078---loss 1.229\n",
            "Epochs[1/5]---batch[250/469]---acc 0.5---loss 1.131\n",
            "Epochs[1/5]---batch[300/469]---acc 0.6328---loss 0.9165\n",
            "Epochs[1/5]---batch[350/469]---acc 0.7031---loss 0.8829\n",
            "Epochs[1/5]---batch[400/469]---acc 0.7266---loss 0.7474\n",
            "Epochs[1/5]---batch[450/469]---acc 0.75---loss 0.6978\n",
            "Epochs[1/5]--acc on test 0.7137\n",
            "Epochs[2/5]---batch[0/469]---acc 0.7656---loss 0.7882\n",
            "Epochs[2/5]---batch[50/469]---acc 0.7422---loss 0.7724\n",
            "Epochs[2/5]---batch[100/469]---acc 0.7734---loss 0.6187\n",
            "Epochs[2/5]---batch[150/469]---acc 0.7891---loss 0.6012\n",
            "Epochs[2/5]---batch[200/469]---acc 0.8281---loss 0.5389\n",
            "Epochs[2/5]---batch[250/469]---acc 0.75---loss 0.7278\n",
            "Epochs[2/5]---batch[300/469]---acc 0.8594---loss 0.3809\n",
            "Epochs[2/5]---batch[350/469]---acc 0.7891---loss 0.5285\n",
            "Epochs[2/5]---batch[400/469]---acc 0.8516---loss 0.4072\n",
            "Epochs[2/5]---batch[450/469]---acc 0.7891---loss 0.5464\n",
            "Epochs[2/5]--acc on test 0.8186\n",
            "Epochs[3/5]---batch[0/469]---acc 0.8281---loss 0.3911\n",
            "Epochs[3/5]---batch[50/469]---acc 0.8359---loss 0.4408\n",
            "Epochs[3/5]---batch[100/469]---acc 0.8047---loss 0.4914\n",
            "Epochs[3/5]---batch[150/469]---acc 0.8047---loss 0.56\n",
            "Epochs[3/5]---batch[200/469]---acc 0.875---loss 0.3536\n",
            "Epochs[3/5]---batch[250/469]---acc 0.8594---loss 0.3702\n",
            "Epochs[3/5]---batch[300/469]---acc 0.8672---loss 0.4182\n",
            "Epochs[3/5]---batch[350/469]---acc 0.8984---loss 0.2997\n",
            "Epochs[3/5]---batch[400/469]---acc 0.8438---loss 0.4416\n",
            "Epochs[3/5]---batch[450/469]---acc 0.8281---loss 0.4476\n",
            "Epochs[3/5]--acc on test 0.8489\n",
            "Epochs[4/5]---batch[0/469]---acc 0.8438---loss 0.421\n",
            "Epochs[4/5]---batch[50/469]---acc 0.8984---loss 0.2953\n",
            "Epochs[4/5]---batch[100/469]---acc 0.8516---loss 0.3872\n",
            "Epochs[4/5]---batch[150/469]---acc 0.8984---loss 0.2812\n",
            "Epochs[4/5]---batch[200/469]---acc 0.875---loss 0.3434\n",
            "Epochs[4/5]---batch[250/469]---acc 0.8672---loss 0.3443\n",
            "Epochs[4/5]---batch[300/469]---acc 0.8828---loss 0.2762\n",
            "Epochs[4/5]---batch[350/469]---acc 0.8438---loss 0.4333\n",
            "Epochs[4/5]---batch[400/469]---acc 0.875---loss 0.3467\n",
            "Epochs[4/5]---batch[450/469]---acc 0.8438---loss 0.3114\n",
            "Epochs[4/5]--acc on test 0.8713\n",
            "Epochs[5/5]---batch[0/469]---acc 0.9062---loss 0.2853\n",
            "Epochs[5/5]---batch[50/469]---acc 0.8516---loss 0.4009\n",
            "Epochs[5/5]---batch[100/469]---acc 0.8984---loss 0.2558\n",
            "Epochs[5/5]---batch[150/469]---acc 0.8672---loss 0.3506\n",
            "Epochs[5/5]---batch[200/469]---acc 0.8984---loss 0.3304\n",
            "Epochs[5/5]---batch[250/469]---acc 0.9297---loss 0.2271\n",
            "Epochs[5/5]---batch[300/469]---acc 0.8047---loss 0.4316\n",
            "Epochs[5/5]---batch[350/469]---acc 0.8984---loss 0.3293\n",
            "Epochs[5/5]---batch[400/469]---acc 0.8828---loss 0.2804\n",
            "Epochs[5/5]---batch[450/469]---acc 0.9141---loss 0.2738\n",
            "Epochs[5/5]--acc on test 0.8764\n"
          ]
        }
      ]
    },
    {
      "cell_type": "markdown",
      "source": [
        "## MNASNet with Fashion Mnist"
      ],
      "metadata": {
        "id": "p08VTbnMDs_o"
      }
    },
    {
      "cell_type": "code",
      "source": [
        "import torch\n",
        "import torchvision\n",
        "import torchvision.transforms as transforms\n",
        "import torch.optim as optim\n",
        "import time\n",
        "import torch.nn.functional as F\n",
        "import torch.nn as nn\n",
        "import matplotlib.pyplot as plt\n",
        "from torchvision import models\n",
        "\n",
        "device = torch.device(\"cuda:0\" if torch.cuda.is_available() else \"cpu\")\n",
        "print(device)\n",
        "\n",
        "# transform = transforms.Compose(\n",
        "#     [transforms.Resize((224, 224)),\n",
        "#      transforms.ToTensor(),\n",
        "#      transforms.Normalize((0.5, 0.5, 0.5), (0.5, 0.5, 0.5))])\n",
        "\n",
        "transform = transforms.Compose(\n",
        "[transforms.ToTensor(),\n",
        " torchvision.transforms.Lambda(lambda x: x.repeat(3, 1, 1)),\n",
        " transforms.Normalize((0.5, 0.5, 0.5), (0.5, 0.5, 0.5))])\n",
        "\n",
        "trainset = torchvision.datasets.FashionMNIST(root='./data', train=True,\n",
        "                                        download=True, transform=transform)\n",
        "trainloader = torch.utils.data.DataLoader(trainset, batch_size=32,\n",
        "                                          shuffle=True)\n",
        "\n",
        "testset = torchvision.datasets.FashionMNIST(root='./data', train=False,\n",
        "                                       download=True, transform=transform)\n",
        "testloader = torch.utils.data.DataLoader(testset, batch_size=32,\n",
        "                                         shuffle=False)\n",
        "\n",
        "mnasnet = models.mnasnet1_0(pretrained=True)\n",
        "mnasnet.to(device)\n",
        "print('')\n",
        "# print(mnasnet)"
      ],
      "metadata": {
        "colab": {
          "base_uri": "https://localhost:8080/"
        },
        "id": "W40PnmXhTb9q",
        "outputId": "3a48662b-0508-4e53-e32b-82cd07a82240"
      },
      "execution_count": null,
      "outputs": [
        {
          "output_type": "stream",
          "name": "stdout",
          "text": [
            "cuda:0\n",
            "\n"
          ]
        }
      ]
    },
    {
      "cell_type": "code",
      "source": [
        "# def load_dataset(batch_size, resize=None):\n",
        "#     trans = []\n",
        "#     if resize:\n",
        "#         trans.append(torchvision.transforms.Resize(size=resize, interpolation=1))\n",
        "#     trans.append(torchvision.transforms.ToTensor())\n",
        "#     transform = torchvision.transforms.Compose(trans)\n",
        "#     train_loader = torchvision.datasets.FashionMNIST(root='~/Datasets/FashionMNIST',\n",
        "#                                                      train=True, download=True,\n",
        "#                                                      transform=transform)\n",
        "#     test_loader = torchvision.datasets.FashionMNIST(root='~/Datasets/FashionMNIST',\n",
        "#                                                     train=False, download=True,\n",
        "#                                                     transform=transform)\n",
        "#     train_iter = torch.utils.data.DataLoader(train_loader,\n",
        "#                                              batch_size=batch_size,\n",
        "#                                              shuffle=True,\n",
        "#                                              num_workers=1)\n",
        "#     test_iter = torch.utils.data.DataLoader(test_loader,\n",
        "#                                             batch_size=batch_size,\n",
        "#                                             shuffle=False,\n",
        "#                                             num_workers=1)\n",
        "#     return train_iter, test_iter\n",
        "\n",
        "# train_iter, test_iter = load_dataset(32)"
      ],
      "metadata": {
        "id": "N6MGF3HY8IB4"
      },
      "execution_count": null,
      "outputs": []
    },
    {
      "cell_type": "code",
      "source": [
        "for x, y in trainloader:\n",
        "  print(x.shape)\n",
        "  break"
      ],
      "metadata": {
        "colab": {
          "base_uri": "https://localhost:8080/"
        },
        "id": "CockbVRG7gSg",
        "outputId": "7c446d59-fbab-4b0f-9b07-052bc3aabc78"
      },
      "execution_count": null,
      "outputs": [
        {
          "output_type": "stream",
          "name": "stdout",
          "text": [
            "torch.Size([32, 3, 28, 28])\n"
          ]
        }
      ]
    },
    {
      "cell_type": "code",
      "source": [
        "# mnasnet.layers[0] = nn.Conv2d(1, 32, kernel_size=(3, 3), stride=(2, 2), padding=(1, 1), bias=False)\n",
        "mnasnet.classifier[1].out_features = 10\n",
        "# mnasnet"
      ],
      "metadata": {
        "id": "DTW-v8yO4L3r"
      },
      "execution_count": null,
      "outputs": []
    },
    {
      "cell_type": "code",
      "source": [
        "# change the number of classes \n",
        "# mnasnet.classifier[0].out_features = 10\n",
        "# freeze convolution weights\n",
        "# for param in mnasnet.features.parameters():\n",
        "#     param.requires_grad = False"
      ],
      "metadata": {
        "id": "KgeKnW43Vk_v"
      },
      "execution_count": null,
      "outputs": []
    },
    {
      "cell_type": "code",
      "source": [
        "# optimizer\n",
        "optimizer = optim.SGD(mnasnet.classifier.parameters(), lr=0.001, momentum=0.9)\n",
        "# loss function\n",
        "criterion = nn.CrossEntropyLoss()"
      ],
      "metadata": {
        "id": "niFu16Y9WJGX"
      },
      "execution_count": null,
      "outputs": []
    },
    {
      "cell_type": "code",
      "source": [
        "# validation function\n",
        "def validate(model, test_dataloader):\n",
        "    model.eval()\n",
        "    val_running_loss = 0.0\n",
        "    val_running_correct = 0\n",
        "    for int, data in enumerate(test_dataloader):\n",
        "        data, target = data[0].to(device), data[1].to(device)\n",
        "        output = model(data)\n",
        "        loss = criterion(output, target)\n",
        "        \n",
        "        val_running_loss += loss.item()\n",
        "        _, preds = torch.max(output.data, 1)\n",
        "        val_running_correct += (preds == target).sum().item()\n",
        "    \n",
        "    val_loss = val_running_loss/len(test_dataloader.dataset)\n",
        "    val_accuracy = 100. * val_running_correct/len(test_dataloader.dataset)\n",
        "    \n",
        "    return val_loss, val_accuracy\n",
        "\n",
        "# training function\n",
        "def fit(model, train_dataloader):\n",
        "    model.train()\n",
        "    train_running_loss = 0.0\n",
        "    train_running_correct = 0\n",
        "    for i, data in enumerate(train_dataloader):\n",
        "        \n",
        "        data, target = data[0].to(device), data[1].to(device)\n",
        "        optimizer.zero_grad()\n",
        "        output = model(data)\n",
        "        loss = criterion(output, target)\n",
        "        train_running_loss += loss.item()\n",
        "        _, preds = torch.max(output.data, 1)\n",
        "        train_running_correct += (preds == target).sum().item()\n",
        "        loss.backward()\n",
        "        optimizer.step()\n",
        "    train_loss = train_running_loss/len(train_dataloader.dataset)\n",
        "    train_accuracy = 100. * train_running_correct/len(train_dataloader.dataset)\n",
        "    print(f'Train Loss: {train_loss:.4f}, Train Acc: {train_accuracy:.2f}')\n",
        "    \n",
        "    return train_loss, train_accuracy"
      ],
      "metadata": {
        "id": "8dFTpQzCWfAt"
      },
      "execution_count": null,
      "outputs": []
    },
    {
      "cell_type": "code",
      "source": [
        "train_loss , train_accuracy = [], []\n",
        "val_loss , val_accuracy = [], []\n",
        "start = time.time()\n",
        "for epoch in range(10):\n",
        "    print('EPOCH:', epoch)\n",
        "    train_epoch_loss, train_epoch_accuracy = fit(mnasnet, trainloader)\n",
        "    val_epoch_loss, val_epoch_accuracy = validate(mnasnet, testloader)\n",
        "    train_loss.append(train_epoch_loss)\n",
        "    train_accuracy.append(train_epoch_accuracy)\n",
        "    val_loss.append(val_epoch_loss)\n",
        "    val_accuracy.append(val_epoch_accuracy)\n",
        "end = time.time()\n",
        "print((end-start)/60, 'minutes')  "
      ],
      "metadata": {
        "colab": {
          "base_uri": "https://localhost:8080/"
        },
        "id": "VXW8iRqlWipQ",
        "outputId": "99cae19c-14fa-440b-cdde-f2664b9d8a06"
      },
      "execution_count": null,
      "outputs": [
        {
          "output_type": "stream",
          "name": "stdout",
          "text": [
            "EPOCH: 0\n",
            "Train Loss: 0.0524, Train Acc: 56.36\n",
            "EPOCH: 1\n",
            "Train Loss: 0.0411, Train Acc: 61.77\n",
            "EPOCH: 2\n",
            "Train Loss: 0.0369, Train Acc: 64.07\n",
            "EPOCH: 3\n",
            "Train Loss: 0.0349, Train Acc: 65.06\n",
            "EPOCH: 4\n",
            "Train Loss: 0.0340, Train Acc: 65.86\n",
            "EPOCH: 5\n",
            "Train Loss: 0.0332, Train Acc: 66.03\n",
            "EPOCH: 6\n",
            "Train Loss: 0.0329, Train Acc: 66.17\n",
            "EPOCH: 7\n",
            "Train Loss: 0.0326, Train Acc: 66.43\n",
            "EPOCH: 8\n",
            "Train Loss: 0.0322, Train Acc: 66.44\n",
            "EPOCH: 9\n",
            "Train Loss: 0.0322, Train Acc: 66.58\n",
            "13.746036970615387 minutes\n"
          ]
        }
      ]
    },
    {
      "cell_type": "code",
      "source": [
        "plt.plot(train_loss)\n",
        "plt.plot(val_loss)\n",
        "plt.legend(['train', 'val'])\n",
        "plt.show()"
      ],
      "metadata": {
        "id": "o2QpW7yOWpyg",
        "colab": {
          "base_uri": "https://localhost:8080/",
          "height": 265
        },
        "outputId": "edab4d79-b063-4066-b7c1-631518bf988d"
      },
      "execution_count": null,
      "outputs": [
        {
          "output_type": "display_data",
          "data": {
            "image/png": "[encoded data removed]",
            "text/plain": [
              "<Figure size 432x288 with 1 Axes>"
            ]
          },
          "metadata": {
            "needs_background": "light"
          }
        }
      ]
    },
    {
      "cell_type": "code",
      "source": [
        "plt.plot(train_accuracy)\n",
        "plt.plot(val_accuracy)\n",
        "plt.legend(['train', 'val'])\n",
        "plt.show()"
      ],
      "metadata": {
        "id": "mkFgiPYGWe-I",
        "colab": {
          "base_uri": "https://localhost:8080/",
          "height": 265
        },
        "outputId": "e97683e6-0f8a-4747-ffb4-e6170e1c25c0"
      },
      "execution_count": null,
      "outputs": [
        {
          "output_type": "display_data",
          "data": {
            "image/png": "[encoded data removed]",
            "text/plain": [
              "<Figure size 432x288 with 1 Axes>"
            ]
          },
          "metadata": {
            "needs_background": "light"
          }
        }
      ]
    },
    {
      "cell_type": "code",
      "source": [
        ""
      ],
      "metadata": {
        "id": "u1TEc0U0We75"
      },
      "execution_count": null,
      "outputs": []
    }
  ]
}